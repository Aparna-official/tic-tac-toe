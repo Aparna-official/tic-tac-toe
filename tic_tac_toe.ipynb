{
 "cells": [
  {
   "cell_type": "markdown",
   "metadata": {},
   "source": [
    "# TIC-TAC-TOE"
   ]
  },
  {
   "cell_type": "markdown",
   "metadata": {},
   "source": [
    "###### game plan:\n",
    "###### player 1 and player 2\n",
    "###### ask player 1 to enter their character, then show board, then player 2 then board\n",
    "###### keep check that the players are not switching characters\n",
    "###### keep check on win, draw, lose for each iteration"
   ]
  },
  {
   "cell_type": "code",
   "execution_count": 4,
   "metadata": {},
   "outputs": [],
   "source": [
    "# global variables for chart(board) status and the display board\n",
    "\n",
    "pos_chart = {1: [0,0, 'u'],\n",
    "             2: [0,1, 'u'],\n",
    "             3: [0,2, 'u'], \n",
    "             4: [1,0, 'u'],\n",
    "             5: [1,1, 'u'],\n",
    "             6: [1,2, 'u'],\n",
    "             7: [2,0, 'u'],\n",
    "             8: [2,1, 'u'],\n",
    "             9: [2,2, 'u']}\n",
    "\n",
    "board = [\n",
    "    ['1','2','3'],\n",
    "    ['4','5','6'],\n",
    "    ['7','8','9']\n",
    "]"
   ]
  },
  {
   "cell_type": "markdown",
   "metadata": {},
   "source": [
    "###### functions for playing"
   ]
  },
  {
   "cell_type": "code",
   "execution_count": 5,
   "metadata": {},
   "outputs": [],
   "source": [
    "\n",
    "def display_board():\n",
    "    '''displaying the board'''\n",
    "    for i in range(0,3):\n",
    "        for j in range(0,3):\n",
    "            if j==2:\n",
    "                print(' '+ board[i][j], end=' ')\n",
    "            else:\n",
    "                print(' '+ board[i][j], end=' |')\n",
    "        print('\\n') \n",
    "\n",
    "        \n",
    "        \n",
    "def choose_char():\n",
    "    '''choosing a character between O and X from player 1'''\n",
    "    player_1 = input('\\nPlayer1 choose between O and X characters: ').upper()\n",
    "    \n",
    "    if player_1 not in ('X', 'O'):\n",
    "        print('Enter valid characters')\n",
    "        return None, None # so that calling chooose char again, doesn't result in asking values multiple times\n",
    "    \n",
    "    if player_1 == 'X':\n",
    "        return player_1, 'O'\n",
    "    else:\n",
    "        return player_1, 'X'\n",
    "\n",
    "    \n",
    "    \n",
    "def enter_char(player):\n",
    "    ''' either player entering their character'''\n",
    "    pos = int(input('Enter position number: '))\n",
    "    \n",
    "    # only let it enter if position is valid number and unoccupied\n",
    "    if pos in (1,2,3,4,5,6,7,8,9) and pos_chart[pos][2] != 'o':\n",
    "        # make changes to the board\n",
    "        x, y, z = pos_chart[pos] # getting the values\n",
    "        pos_chart[pos][2] = 'o' # marking as occupied\n",
    "        board[x][y] = player\n",
    "        \n",
    "        display_board()\n",
    "    else:\n",
    "        print('Enter a place not occupied/ enter number from 1-9')\n",
    "        enter_char(player)\n",
    "\n",
    "        \n",
    "        \n",
    "def choosing_winner(player, game_iter): # passing the player character\n",
    "    # 8 cases where a player wins\n",
    "    '''choosing a winner or draw or if no winner for this iteration'''\n",
    "    # if the case-sets are unoccupied, then check for same character\n",
    "    # if all case 1 values for pos chart is same then break, apply the same to all\n",
    "    if game_iter >= 2: # a player has to place their characters atleast 3 times(2 pos)\n",
    "        # for them to win\n",
    "        if (board[0][0] == board[0][1] == board[0][2] == player) or (board[1][0] == board[1][1] == board[1][2] == player) or (board[2][0] == board[2][1] == board[2][2] == player) or (board[0][0] == board[1][0] == board[2][0] == player) or (board[0][1] == board[1][1] == board[2][1] == player) or (board[0][2] == board[1][2] == board[2][2] == player) or (board[0][0] == board[1][1] == board[2][2] == player) or (board[0][2] == board[1][1] == board[2][0] == player):\n",
    "            return 'won' # to send that this particular player has won\n",
    "        \n",
    "    # for draw condition\n",
    "    if game_iter == 4: \n",
    "        # 8 places covered in 4 iterations\n",
    "        return 'draw'\n",
    "    \n",
    "    return None # meaning no winner"
   ]
  },
  {
   "cell_type": "markdown",
   "metadata": {},
   "source": [
    "###### main code to drive the game"
   ]
  },
  {
   "cell_type": "code",
   "execution_count": 6,
   "metadata": {},
   "outputs": [],
   "source": [
    "# starting game\n",
    "from IPython.display import clear_output # cleaning output after each iteration\n",
    "\n",
    "def game_play():\n",
    "    \n",
    "    print('Player1 gets to place character first')\n",
    "    \n",
    "    player_1, player_2 = choose_char() # receives a combo of x and o\n",
    "    \n",
    "    while player_1 == None: # keeps asking valid chars and lets through only once they are correct\n",
    "        player_1, player_2 = choose_char()\n",
    "    \n",
    "    print(\"\\nLet's begin!\")\n",
    "    print(\"\\nThis is the board:\")\n",
    "\n",
    "    # letting players enter character alternatively until one wins or it draws\n",
    "    i = 0\n",
    "    while(i<4): # taking two places each iteration\n",
    "        # so 8 places in 4 iterations will be filled\n",
    "        \n",
    "        # clearing screen for cleaner look\n",
    "        clear_output()\n",
    "        \n",
    "        display_board()\n",
    "        \n",
    "        print('Player1')\n",
    "        enter_char(player_1)\n",
    "\n",
    "        result1 = result2 = None\n",
    "\n",
    "        clear_output()\n",
    "        display_board()\n",
    "        \n",
    "        print('Player2')\n",
    "        enter_char(player_2)\n",
    "\n",
    "        result1 = choosing_winner(player_1, i)\n",
    "        result2 = choosing_winner(player_2, i)\n",
    "        \n",
    "        \n",
    "        if result1 == 'won':\n",
    "            print('Player1 wins!!')\n",
    "            break\n",
    "        elif result2 == 'won':\n",
    "            print('Player2 wins!!')\n",
    "            break\n",
    "\n",
    "        i+=1  # iterating to next move\n",
    "\n",
    "    # not able to see draw is iterations finish, might check in later\n",
    "    if i==4: #all iterations finished, no result\n",
    "        print('It is a draw')"
   ]
  },
  {
   "cell_type": "markdown",
   "metadata": {},
   "source": [
    "###### calling the driver function"
   ]
  },
  {
   "cell_type": "code",
   "execution_count": null,
   "metadata": {},
   "outputs": [],
   "source": [
    "game_play() # game begins"
   ]
  },
  {
   "cell_type": "code",
   "execution_count": null,
   "metadata": {},
   "outputs": [],
   "source": []
  }
 ],
 "metadata": {
  "kernelspec": {
   "display_name": "Python 3",
   "language": "python",
   "name": "python3"
  },
  "language_info": {
   "codemirror_mode": {
    "name": "ipython",
    "version": 3
   },
   "file_extension": ".py",
   "mimetype": "text/x-python",
   "name": "python",
   "nbconvert_exporter": "python",
   "pygments_lexer": "ipython3",
   "version": "3.7.4"
  }
 },
 "nbformat": 4,
 "nbformat_minor": 2
}
